{
 "cells": [
  {
   "cell_type": "markdown",
   "metadata": {},
   "source": [
    "# <font color=darkgreen>Análisis de los patrones de movilidad residencial en España<br>mediante árboles de clasificación\n",
    "</font>\n",
    "\n",
    "### <font color=darkgreen>Trabajo de Fin de [Máster en Data Science](https://masterdatascience.ifca.es/)</font>  \n",
    "### <font color=darkgreen>© Autor: Matin Khakpour</font>\n",
    "\n",
    "## <font color=darkgreen>Capítulo 2: Análisis descriptivo de EVR</font>    "
   ]
  },
  {
   "cell_type": "markdown",
   "metadata": {},
   "source": [
    "El dataset original se puede descargar desde el portal del [INE](https://www.ine.es/ftp/microdatos/varires/datos_2019.zip). Dentro del fichero zip de microdatos, hay que entrar en la carpeta `CSV` donde está el fichero `EVR_2019.csv`."
   ]
  },
  {
   "cell_type": "markdown",
   "metadata": {},
   "source": [
    "## Cargar el dataset  \n",
    "Se trata de un fichero csv separado por TABULACIÓN."
   ]
  },
  {
   "cell_type": "code",
   "execution_count": null,
   "metadata": {},
   "outputs": [],
   "source": [
    "library(readr)\n",
    "library(ggplot2)"
   ]
  },
  {
   "cell_type": "code",
   "execution_count": 2,
   "metadata": {},
   "outputs": [
    {
     "name": "stderr",
     "output_type": "stream",
     "text": [
      "Parsed with column specification:\n",
      "cols(\n",
      "  SEXO = col_double(),\n",
      "  PROVNAC = col_character(),\n",
      "  MUNINAC = col_character(),\n",
      "  EDAD = col_double(),\n",
      "  MESNAC = col_double(),\n",
      "  ANONAC = col_double(),\n",
      "  CNAC = col_double(),\n",
      "  PROVALTA = col_character(),\n",
      "  MUNIALTA = col_character(),\n",
      "  MESVAR = col_double(),\n",
      "  ANOVAR = col_double(),\n",
      "  PROVBAJA = col_character(),\n",
      "  MUNIBAJA = col_character(),\n",
      "  TAMUALTA = col_double(),\n",
      "  TAMUBAJA = col_double(),\n",
      "  TAMUNACI = col_double()\n",
      ")\n"
     ]
    }
   ],
   "source": [
    "db <- read_tsv(choose.files())"
   ]
  },
  {
   "cell_type": "code",
   "execution_count": 3,
   "metadata": {},
   "outputs": [
    {
     "data": {
      "text/html": [
       "<ol class=list-inline>\n",
       "\t<li>2868942</li>\n",
       "\t<li>16</li>\n",
       "</ol>\n"
      ],
      "text/latex": [
       "\\begin{enumerate*}\n",
       "\\item 2868942\n",
       "\\item 16\n",
       "\\end{enumerate*}\n"
      ],
      "text/markdown": [
       "1. 2868942\n",
       "2. 16\n",
       "\n",
       "\n"
      ],
      "text/plain": [
       "[1] 2868942      16"
      ]
     },
     "metadata": {},
     "output_type": "display_data"
    }
   ],
   "source": [
    "dim(db)"
   ]
  },
  {
   "cell_type": "code",
   "execution_count": 4,
   "metadata": {},
   "outputs": [
    {
     "data": {
      "text/html": [
       "<table>\n",
       "<thead><tr><th scope=col>SEXO</th><th scope=col>PROVNAC</th><th scope=col>MUNINAC</th><th scope=col>EDAD</th><th scope=col>MESNAC</th><th scope=col>ANONAC</th><th scope=col>CNAC</th><th scope=col>PROVALTA</th><th scope=col>MUNIALTA</th><th scope=col>MESVAR</th><th scope=col>ANOVAR</th><th scope=col>PROVBAJA</th><th scope=col>MUNIBAJA</th><th scope=col>TAMUALTA</th><th scope=col>TAMUBAJA</th><th scope=col>TAMUNACI</th></tr></thead>\n",
       "<tbody>\n",
       "\t<tr><td>1   </td><td>01  </td><td>NA  </td><td> 4  </td><td>4   </td><td>2015</td><td>108 </td><td>01  </td><td>NA  </td><td>7   </td><td>2019</td><td>01  </td><td>NA  </td><td>1   </td><td>1   </td><td>1   </td></tr>\n",
       "\t<tr><td>6   </td><td>01  </td><td>NA  </td><td> 1  </td><td>4   </td><td>2018</td><td>108 </td><td>01  </td><td>NA  </td><td>7   </td><td>2019</td><td>01  </td><td>NA  </td><td>1   </td><td>1   </td><td>1   </td></tr>\n",
       "\t<tr><td>1   </td><td>01  </td><td>NA  </td><td>36  </td><td>6   </td><td>1982</td><td>108 </td><td>01  </td><td>NA  </td><td>3   </td><td>2019</td><td>01  </td><td>NA  </td><td>1   </td><td>1   </td><td>1   </td></tr>\n",
       "\t<tr><td>1   </td><td>01  </td><td>NA  </td><td>26  </td><td>3   </td><td>1993</td><td>108 </td><td>01  </td><td>059 </td><td>5   </td><td>2019</td><td>01  </td><td>NA  </td><td>6   </td><td>1   </td><td>1   </td></tr>\n",
       "\t<tr><td>6   </td><td>01  </td><td>NA  </td><td>37  </td><td>6   </td><td>1982</td><td>108 </td><td>01  </td><td>059 </td><td>6   </td><td>2019</td><td>01  </td><td>NA  </td><td>6   </td><td>1   </td><td>1   </td></tr>\n",
       "\t<tr><td>6   </td><td>01  </td><td>NA  </td><td>75  </td><td>1   </td><td>1944</td><td>108 </td><td>01  </td><td>059 </td><td>1   </td><td>2019</td><td>01  </td><td>NA  </td><td>6   </td><td>1   </td><td>1   </td></tr>\n",
       "</tbody>\n",
       "</table>\n"
      ],
      "text/latex": [
       "\\begin{tabular}{r|llllllllllllllll}\n",
       " SEXO & PROVNAC & MUNINAC & EDAD & MESNAC & ANONAC & CNAC & PROVALTA & MUNIALTA & MESVAR & ANOVAR & PROVBAJA & MUNIBAJA & TAMUALTA & TAMUBAJA & TAMUNACI\\\\\n",
       "\\hline\n",
       "\t 1    & 01   & NA   &  4   & 4    & 2015 & 108  & 01   & NA   & 7    & 2019 & 01   & NA   & 1    & 1    & 1   \\\\\n",
       "\t 6    & 01   & NA   &  1   & 4    & 2018 & 108  & 01   & NA   & 7    & 2019 & 01   & NA   & 1    & 1    & 1   \\\\\n",
       "\t 1    & 01   & NA   & 36   & 6    & 1982 & 108  & 01   & NA   & 3    & 2019 & 01   & NA   & 1    & 1    & 1   \\\\\n",
       "\t 1    & 01   & NA   & 26   & 3    & 1993 & 108  & 01   & 059  & 5    & 2019 & 01   & NA   & 6    & 1    & 1   \\\\\n",
       "\t 6    & 01   & NA   & 37   & 6    & 1982 & 108  & 01   & 059  & 6    & 2019 & 01   & NA   & 6    & 1    & 1   \\\\\n",
       "\t 6    & 01   & NA   & 75   & 1    & 1944 & 108  & 01   & 059  & 1    & 2019 & 01   & NA   & 6    & 1    & 1   \\\\\n",
       "\\end{tabular}\n"
      ],
      "text/markdown": [
       "\n",
       "| SEXO | PROVNAC | MUNINAC | EDAD | MESNAC | ANONAC | CNAC | PROVALTA | MUNIALTA | MESVAR | ANOVAR | PROVBAJA | MUNIBAJA | TAMUALTA | TAMUBAJA | TAMUNACI |\n",
       "|---|---|---|---|---|---|---|---|---|---|---|---|---|---|---|---|\n",
       "| 1    | 01   | NA   |  4   | 4    | 2015 | 108  | 01   | NA   | 7    | 2019 | 01   | NA   | 1    | 1    | 1    |\n",
       "| 6    | 01   | NA   |  1   | 4    | 2018 | 108  | 01   | NA   | 7    | 2019 | 01   | NA   | 1    | 1    | 1    |\n",
       "| 1    | 01   | NA   | 36   | 6    | 1982 | 108  | 01   | NA   | 3    | 2019 | 01   | NA   | 1    | 1    | 1    |\n",
       "| 1    | 01   | NA   | 26   | 3    | 1993 | 108  | 01   | 059  | 5    | 2019 | 01   | NA   | 6    | 1    | 1    |\n",
       "| 6    | 01   | NA   | 37   | 6    | 1982 | 108  | 01   | 059  | 6    | 2019 | 01   | NA   | 6    | 1    | 1    |\n",
       "| 6    | 01   | NA   | 75   | 1    | 1944 | 108  | 01   | 059  | 1    | 2019 | 01   | NA   | 6    | 1    | 1    |\n",
       "\n"
      ],
      "text/plain": [
       "  SEXO PROVNAC MUNINAC EDAD MESNAC ANONAC CNAC PROVALTA MUNIALTA MESVAR ANOVAR\n",
       "1 1    01      NA       4   4      2015   108  01       NA       7      2019  \n",
       "2 6    01      NA       1   4      2018   108  01       NA       7      2019  \n",
       "3 1    01      NA      36   6      1982   108  01       NA       3      2019  \n",
       "4 1    01      NA      26   3      1993   108  01       059      5      2019  \n",
       "5 6    01      NA      37   6      1982   108  01       059      6      2019  \n",
       "6 6    01      NA      75   1      1944   108  01       059      1      2019  \n",
       "  PROVBAJA MUNIBAJA TAMUALTA TAMUBAJA TAMUNACI\n",
       "1 01       NA       1        1        1       \n",
       "2 01       NA       1        1        1       \n",
       "3 01       NA       1        1        1       \n",
       "4 01       NA       6        1        1       \n",
       "5 01       NA       6        1        1       \n",
       "6 01       NA       6        1        1       "
      ]
     },
     "metadata": {},
     "output_type": "display_data"
    }
   ],
   "source": [
    "head(db)"
   ]
  },
  {
   "cell_type": "code",
   "execution_count": 5,
   "metadata": {},
   "outputs": [
    {
     "data": {
      "text/html": [
       "<ol class=list-inline>\n",
       "\t<li>'SEXO'</li>\n",
       "\t<li>'PROVNAC'</li>\n",
       "\t<li>'MUNINAC'</li>\n",
       "\t<li>'EDAD'</li>\n",
       "\t<li>'MESNAC'</li>\n",
       "\t<li>'ANONAC'</li>\n",
       "\t<li>'CNAC'</li>\n",
       "\t<li>'PROVALTA'</li>\n",
       "\t<li>'MUNIALTA'</li>\n",
       "\t<li>'MESVAR'</li>\n",
       "\t<li>'ANOVAR'</li>\n",
       "\t<li>'PROVBAJA'</li>\n",
       "\t<li>'MUNIBAJA'</li>\n",
       "\t<li>'TAMUALTA'</li>\n",
       "\t<li>'TAMUBAJA'</li>\n",
       "\t<li>'TAMUNACI'</li>\n",
       "</ol>\n"
      ],
      "text/latex": [
       "\\begin{enumerate*}\n",
       "\\item 'SEXO'\n",
       "\\item 'PROVNAC'\n",
       "\\item 'MUNINAC'\n",
       "\\item 'EDAD'\n",
       "\\item 'MESNAC'\n",
       "\\item 'ANONAC'\n",
       "\\item 'CNAC'\n",
       "\\item 'PROVALTA'\n",
       "\\item 'MUNIALTA'\n",
       "\\item 'MESVAR'\n",
       "\\item 'ANOVAR'\n",
       "\\item 'PROVBAJA'\n",
       "\\item 'MUNIBAJA'\n",
       "\\item 'TAMUALTA'\n",
       "\\item 'TAMUBAJA'\n",
       "\\item 'TAMUNACI'\n",
       "\\end{enumerate*}\n"
      ],
      "text/markdown": [
       "1. 'SEXO'\n",
       "2. 'PROVNAC'\n",
       "3. 'MUNINAC'\n",
       "4. 'EDAD'\n",
       "5. 'MESNAC'\n",
       "6. 'ANONAC'\n",
       "7. 'CNAC'\n",
       "8. 'PROVALTA'\n",
       "9. 'MUNIALTA'\n",
       "10. 'MESVAR'\n",
       "11. 'ANOVAR'\n",
       "12. 'PROVBAJA'\n",
       "13. 'MUNIBAJA'\n",
       "14. 'TAMUALTA'\n",
       "15. 'TAMUBAJA'\n",
       "16. 'TAMUNACI'\n",
       "\n",
       "\n"
      ],
      "text/plain": [
       " [1] \"SEXO\"     \"PROVNAC\"  \"MUNINAC\"  \"EDAD\"     \"MESNAC\"   \"ANONAC\"  \n",
       " [7] \"CNAC\"     \"PROVALTA\" \"MUNIALTA\" \"MESVAR\"   \"ANOVAR\"   \"PROVBAJA\"\n",
       "[13] \"MUNIBAJA\" \"TAMUALTA\" \"TAMUBAJA\" \"TAMUNACI\""
      ]
     },
     "metadata": {},
     "output_type": "display_data"
    }
   ],
   "source": [
    "colnames(db)"
   ]
  },
  {
   "cell_type": "markdown",
   "metadata": {},
   "source": [
    "## Análisis estructural de variables"
   ]
  },
  {
   "cell_type": "code",
   "execution_count": 4,
   "metadata": {},
   "outputs": [
    {
     "name": "stdout",
     "output_type": "stream",
     "text": [
      "tibble [2,868,942 x 16] (S3: spec_tbl_df/tbl_df/tbl/data.frame)\n",
      " $ SEXO    : num [1:2868942] 1 6 1 1 6 6 1 1 6 6 ...\n",
      " $ PROVNAC : chr [1:2868942] \"01\" \"01\" \"01\" \"01\" ...\n",
      " $ MUNINAC : chr [1:2868942] NA NA NA NA ...\n",
      " $ EDAD    : num [1:2868942] 4 1 36 26 37 75 14 11 28 9 ...\n",
      " $ MESNAC  : num [1:2868942] 4 4 6 3 6 1 7 11 10 1 ...\n",
      " $ ANONAC  : num [1:2868942] 2015 2018 1982 1993 1982 ...\n",
      " $ CNAC    : num [1:2868942] 108 108 108 108 108 108 108 108 108 108 ...\n",
      " $ PROVALTA: chr [1:2868942] \"01\" \"01\" \"01\" \"01\" ...\n",
      " $ MUNIALTA: chr [1:2868942] NA NA NA \"059\" ...\n",
      " $ MESVAR  : num [1:2868942] 7 7 3 5 6 1 9 1 12 1 ...\n",
      " $ ANOVAR  : num [1:2868942] 2019 2019 2019 2019 2019 ...\n",
      " $ PROVBAJA: chr [1:2868942] \"01\" \"01\" \"01\" \"01\" ...\n",
      " $ MUNIBAJA: chr [1:2868942] NA NA NA NA ...\n",
      " $ TAMUALTA: num [1:2868942] 1 1 1 6 6 6 6 6 6 6 ...\n",
      " $ TAMUBAJA: num [1:2868942] 1 1 1 1 1 1 1 1 1 1 ...\n",
      " $ TAMUNACI: num [1:2868942] 1 1 1 1 1 1 1 1 1 1 ...\n",
      " - attr(*, \"spec\")=\n",
      "  .. cols(\n",
      "  ..   SEXO = col_double(),\n",
      "  ..   PROVNAC = col_character(),\n",
      "  ..   MUNINAC = col_character(),\n",
      "  ..   EDAD = col_double(),\n",
      "  ..   MESNAC = col_double(),\n",
      "  ..   ANONAC = col_double(),\n",
      "  ..   CNAC = col_double(),\n",
      "  ..   PROVALTA = col_character(),\n",
      "  ..   MUNIALTA = col_character(),\n",
      "  ..   MESVAR = col_double(),\n",
      "  ..   ANOVAR = col_double(),\n",
      "  ..   PROVBAJA = col_character(),\n",
      "  ..   MUNIBAJA = col_character(),\n",
      "  ..   TAMUALTA = col_double(),\n",
      "  ..   TAMUBAJA = col_double(),\n",
      "  ..   TAMUNACI = col_double()\n",
      "  .. )\n"
     ]
    }
   ],
   "source": [
    "str(db)"
   ]
  },
  {
   "cell_type": "markdown",
   "metadata": {},
   "source": [
    "Encontrar todas las variables que contienen algún valor nulo:"
   ]
  },
  {
   "cell_type": "code",
   "execution_count": 225,
   "metadata": {},
   "outputs": [
    {
     "data": {
      "text/html": [
       "<ol class=list-inline>\n",
       "\t<li>'MUNINAC'</li>\n",
       "\t<li>'MUNIALTA'</li>\n",
       "\t<li>'MUNIBAJA'</li>\n",
       "\t<li>'TAMUALTA'</li>\n",
       "\t<li>'TAMUBAJA'</li>\n",
       "\t<li>'TAMUNACI'</li>\n",
       "</ol>\n"
      ],
      "text/latex": [
       "\\begin{enumerate*}\n",
       "\\item 'MUNINAC'\n",
       "\\item 'MUNIALTA'\n",
       "\\item 'MUNIBAJA'\n",
       "\\item 'TAMUALTA'\n",
       "\\item 'TAMUBAJA'\n",
       "\\item 'TAMUNACI'\n",
       "\\end{enumerate*}\n"
      ],
      "text/markdown": [
       "1. 'MUNINAC'\n",
       "2. 'MUNIALTA'\n",
       "3. 'MUNIBAJA'\n",
       "4. 'TAMUALTA'\n",
       "5. 'TAMUBAJA'\n",
       "6. 'TAMUNACI'\n",
       "\n",
       "\n"
      ],
      "text/plain": [
       "[1] \"MUNINAC\"  \"MUNIALTA\" \"MUNIBAJA\" \"TAMUALTA\" \"TAMUBAJA\" \"TAMUNACI\""
      ]
     },
     "metadata": {},
     "output_type": "display_data"
    }
   ],
   "source": [
    "colnames(db)[apply(db, 2, anyNA)]"
   ]
  },
  {
   "cell_type": "markdown",
   "metadata": {},
   "source": [
    "Contar el número de los valores nulos en cada columna:"
   ]
  },
  {
   "cell_type": "code",
   "execution_count": 4,
   "metadata": {},
   "outputs": [
    {
     "data": {
      "text/html": [
       "<dl class=dl-horizontal>\n",
       "\t<dt>SEXO</dt>\n",
       "\t\t<dd>0</dd>\n",
       "\t<dt>PROVNAC</dt>\n",
       "\t\t<dd>0</dd>\n",
       "\t<dt>MUNINAC</dt>\n",
       "\t\t<dd>224362</dd>\n",
       "\t<dt>EDAD</dt>\n",
       "\t\t<dd>0</dd>\n",
       "\t<dt>MESNAC</dt>\n",
       "\t\t<dd>0</dd>\n",
       "\t<dt>ANONAC</dt>\n",
       "\t\t<dd>0</dd>\n",
       "\t<dt>CNAC</dt>\n",
       "\t\t<dd>0</dd>\n",
       "\t<dt>PROVALTA</dt>\n",
       "\t\t<dd>0</dd>\n",
       "\t<dt>MUNIALTA</dt>\n",
       "\t\t<dd>505738</dd>\n",
       "\t<dt>MESVAR</dt>\n",
       "\t\t<dd>0</dd>\n",
       "\t<dt>ANOVAR</dt>\n",
       "\t\t<dd>0</dd>\n",
       "\t<dt>PROVBAJA</dt>\n",
       "\t\t<dd>0</dd>\n",
       "\t<dt>MUNIBAJA</dt>\n",
       "\t\t<dd>424934</dd>\n",
       "\t<dt>TAMUALTA</dt>\n",
       "\t\t<dd>345749</dd>\n",
       "\t<dt>TAMUBAJA</dt>\n",
       "\t\t<dd>873842</dd>\n",
       "\t<dt>TAMUNACI</dt>\n",
       "\t\t<dd>1614660</dd>\n",
       "</dl>\n"
      ],
      "text/latex": [
       "\\begin{description*}\n",
       "\\item[SEXO] 0\n",
       "\\item[PROVNAC] 0\n",
       "\\item[MUNINAC] 224362\n",
       "\\item[EDAD] 0\n",
       "\\item[MESNAC] 0\n",
       "\\item[ANONAC] 0\n",
       "\\item[CNAC] 0\n",
       "\\item[PROVALTA] 0\n",
       "\\item[MUNIALTA] 505738\n",
       "\\item[MESVAR] 0\n",
       "\\item[ANOVAR] 0\n",
       "\\item[PROVBAJA] 0\n",
       "\\item[MUNIBAJA] 424934\n",
       "\\item[TAMUALTA] 345749\n",
       "\\item[TAMUBAJA] 873842\n",
       "\\item[TAMUNACI] 1614660\n",
       "\\end{description*}\n"
      ],
      "text/markdown": [
       "SEXO\n",
       ":   0PROVNAC\n",
       ":   0MUNINAC\n",
       ":   224362EDAD\n",
       ":   0MESNAC\n",
       ":   0ANONAC\n",
       ":   0CNAC\n",
       ":   0PROVALTA\n",
       ":   0MUNIALTA\n",
       ":   505738MESVAR\n",
       ":   0ANOVAR\n",
       ":   0PROVBAJA\n",
       ":   0MUNIBAJA\n",
       ":   424934TAMUALTA\n",
       ":   345749TAMUBAJA\n",
       ":   873842TAMUNACI\n",
       ":   1614660\n",
       "\n"
      ],
      "text/plain": [
       "    SEXO  PROVNAC  MUNINAC     EDAD   MESNAC   ANONAC     CNAC PROVALTA \n",
       "       0        0   224362        0        0        0        0        0 \n",
       "MUNIALTA   MESVAR   ANOVAR PROVBAJA MUNIBAJA TAMUALTA TAMUBAJA TAMUNACI \n",
       "  505738        0        0        0   424934   345749   873842  1614660 "
      ]
     },
     "metadata": {},
     "output_type": "display_data"
    }
   ],
   "source": [
    "sapply(db, function(x) sum(is.na(x)))"
   ]
  },
  {
   "cell_type": "markdown",
   "metadata": {},
   "source": [
    "## Transformación de variables y tratamiento inicial de los nulos\n",
    "\n",
    "- Convertir las variables oportunas a categórica:  \n",
    "Incluimos los nulos coma una clase más, porque luego queremos calcular su proporción al respecto de los demás valores.  \n",
    "`addNA()` nos permite hacer ambas cosas a la vez, sin cambiar las etiquetas al tipo numérico.  \n",
    "Esto se aplica a **MUNINAC, MUNIALTA, MUNIBAJA, TAMUALTA, TAMUBAJA, TAMUNACI**  \n",
    "\n",
    "  \n",
    "- Otras variables tipo `chr`, de momento no las convertimos a numérico, porque puede ser que más adelante necesitemos hacer alguna transformación textual con ellas (**PROVNAC, PROVALTA, PROVBAJA**)  \n",
    "\n",
    "El resto de las variables son numéricas y de momento las usamos sin factorizarlas (**SEXO, EDAD, MESNAC, ANONAC, CNAC, MESVAR, ANOVAR**)"
   ]
  },
  {
   "cell_type": "code",
   "execution_count": 3,
   "metadata": {},
   "outputs": [],
   "source": [
    "db$SEXO <- factor(db$SEXO, label=c(\"V\",\"M\")) #solo cambiamos sus etiquetas\n",
    "\n",
    "db$MUNINAC <- addNA(db$MUNINAC)\n",
    "\n",
    "db$MUNIALTA <- addNA(db$MUNIALTA)\n",
    "\n",
    "db$MUNIBAJA <- addNA(db$MUNIBAJA)\n",
    "\n",
    "db$TAMUALTA <- addNA(db$TAMUALTA)\n",
    "\n",
    "db$TAMUBAJA <- addNA(db$TAMUBAJA)\n",
    "\n",
    "db$TAMUNACI <- addNA(db$TAMUNACI)"
   ]
  },
  {
   "cell_type": "markdown",
   "metadata": {},
   "source": [
    "Guardamos los cambios en un fichero nuevo para poder usarlo más adelante:"
   ]
  },
  {
   "cell_type": "code",
   "execution_count": 6,
   "metadata": {},
   "outputs": [],
   "source": [
    "write.table(db, file = \"db_fase1.tsv\", row.names=FALSE, sep=\"\\t\")"
   ]
  },
  {
   "cell_type": "markdown",
   "metadata": {},
   "source": [
    "## Visualización de las variables"
   ]
  },
  {
   "cell_type": "markdown",
   "metadata": {},
   "source": [
    "### **#1 SEXO**"
   ]
  },
  {
   "cell_type": "code",
   "execution_count": 9,
   "metadata": {},
   "outputs": [
    {
     "data": {
      "image/png": "[encoded data removed]",
      "text/plain": [
       "Plot with title \"Sexo\""
      ]
     },
     "metadata": {},
     "output_type": "display_data"
    }
   ],
   "source": [
    "aux <- table(db$SEXO)\n",
    "aux <- as.data.frame(aux)\n",
    "\n",
    "slices <- aux$Freq\n",
    "lbl <- aux$Var1\n",
    "pct <- round(slices/sum(slices)*100)\n",
    "lbl <- paste(lbl, \"=>\", pct)\n",
    "lbl <- paste(lbl,\"%\", sep=\"\")\n",
    "pie(slices, labels = lbl, col = hcl.colors(length(lbl)),\n",
    "    main=\"Sexo\")"
   ]
  },
  {
   "cell_type": "markdown",
   "metadata": {},
   "source": [
    "### **#2 PROVNAC**"
   ]
  },
  {
   "cell_type": "code",
   "execution_count": 18,
   "metadata": {},
   "outputs": [
    {
     "data": {
      "image/png": "[encoded data removed]",
      "text/plain": [
       "Plot with title \"Provincia de nacimiento\""
      ]
     },
     "metadata": {},
     "output_type": "display_data"
    }
   ],
   "source": [
    "barplot(table(db$PROVNAC), main=\"Provincia de nacimiento\", col=\"darkmagenta\")"
   ]
  },
  {
   "cell_type": "markdown",
   "metadata": {},
   "source": [
    "Observamos que un alto porcentaje de todos las variaciones son las personas nacidas en extranjero (PROVNAC = 66). ¿Cuánto?"
   ]
  },
  {
   "cell_type": "code",
   "execution_count": 33,
   "metadata": {},
   "outputs": [
    {
     "data": {
      "text/html": [
       "'Proporción de nacidos en extranjero: 56.3 %'"
      ],
      "text/latex": [
       "'Proporción de nacidos en extranjero: 56.3 \\%'"
      ],
      "text/markdown": [
       "'Proporción de nacidos en extranjero: 56.3 %'"
      ],
      "text/plain": [
       "[1] \"Proporción de nacidos en extranjero: 56.3 %\""
      ]
     },
     "metadata": {},
     "output_type": "display_data"
    }
   ],
   "source": [
    "aux <- round(nrow(db[db$PROVNAC == \"66\",])/nrow(db)*100,1)\n",
    "paste(\"Proporción de nacidos en extranjero:\", aux, \"%\")"
   ]
  },
  {
   "cell_type": "markdown",
   "metadata": {},
   "source": [
    "### **#3 MUNINAC**"
   ]
  },
  {
   "cell_type": "markdown",
   "metadata": {},
   "source": [
    "Visualizar esta variable como tal no aporta información, porque los códigos son parecidos para los municipios españoles y extranjeros y para los municipios españoles entre sí."
   ]
  },
  {
   "cell_type": "markdown",
   "metadata": {},
   "source": [
    "### **#4 EDAD**"
   ]
  },
  {
   "cell_type": "code",
   "execution_count": 22,
   "metadata": {},
   "outputs": [
    {
     "data": {
      "image/png": "[encoded data removed]",
      "text/plain": [
       "Plot with title \"Edad\""
      ]
     },
     "metadata": {},
     "output_type": "display_data"
    }
   ],
   "source": [
    "hist(db$EDAD, main=\"Edad\", col=\"darkmagenta\")"
   ]
  },
  {
   "cell_type": "markdown",
   "metadata": {},
   "source": [
    "### **#5 MESNAC**"
   ]
  },
  {
   "cell_type": "code",
   "execution_count": 24,
   "metadata": {},
   "outputs": [
    {
     "data": {
      "image/png": "[encoded data removed]",
      "text/plain": [
       "Plot with title \"Mes de nacimiento\""
      ]
     },
     "metadata": {},
     "output_type": "display_data"
    }
   ],
   "source": [
    "barplot(table(db$MESNAC), main=\"Mes de nacimiento\", col=\"darkmagenta\")"
   ]
  },
  {
   "cell_type": "markdown",
   "metadata": {},
   "source": [
    "### **#6 ANONAC**"
   ]
  },
  {
   "cell_type": "code",
   "execution_count": 25,
   "metadata": {},
   "outputs": [
    {
     "data": {
      "image/png": "[encoded data removed]",
      "text/plain": [
       "Plot with title \"Año de nacimiento\""
      ]
     },
     "metadata": {},
     "output_type": "display_data"
    }
   ],
   "source": [
    "hist(db$ANONAC, main=\"Año de nacimiento\", col=\"darkmagenta\")"
   ]
  },
  {
   "cell_type": "markdown",
   "metadata": {},
   "source": [
    "### **#7 CNAC**"
   ]
  },
  {
   "cell_type": "code",
   "execution_count": 26,
   "metadata": {},
   "outputs": [
    {
     "data": {
      "image/png": "[encoded data removed]",
      "text/plain": [
       "Plot with title \"Código de nacionalidad\""
      ]
     },
     "metadata": {},
     "output_type": "display_data"
    }
   ],
   "source": [
    "barplot(table(db$CNAC), main=\"Código de nacionalidad\", col=\"darkmagenta\")"
   ]
  },
  {
   "cell_type": "markdown",
   "metadata": {},
   "source": [
    "El bin más alto es el del código 108 (España). Vemos su proporción:"
   ]
  },
  {
   "cell_type": "code",
   "execution_count": 228,
   "metadata": {},
   "outputs": [
    {
     "data": {
      "text/html": [
       "'Proporción de ciudadanos con nacionalidad española: 49.1 %'"
      ],
      "text/latex": [
       "'Proporción de ciudadanos con nacionalidad española: 49.1 \\%'"
      ],
      "text/markdown": [
       "'Proporción de ciudadanos con nacionalidad española: 49.1 %'"
      ],
      "text/plain": [
       "[1] \"Proporción de ciudadanos con nacionalidad española: 49.1 %\""
      ]
     },
     "metadata": {},
     "output_type": "display_data"
    },
    {
     "data": {
      "text/html": [
       "'Proporción de ciudadanos con nacionalidad extranjera: 50.9 %'"
      ],
      "text/latex": [
       "'Proporción de ciudadanos con nacionalidad extranjera: 50.9 \\%'"
      ],
      "text/markdown": [
       "'Proporción de ciudadanos con nacionalidad extranjera: 50.9 %'"
      ],
      "text/plain": [
       "[1] \"Proporción de ciudadanos con nacionalidad extranjera: 50.9 %\""
      ]
     },
     "metadata": {},
     "output_type": "display_data"
    }
   ],
   "source": [
    "aux <- round(nrow(db[db$CNAC == \"108\",])/nrow(db)*100,1)\n",
    "paste(\"Proporción de ciudadanos con nacionalidad española:\", aux, \"%\")\n",
    "\n",
    "# aux <- round(nrow(db[db$CNAC != \"108\",])/nrow(db)*100,1)\n",
    "# paste(\"Proporción de ciudadanos con nacionalidad extranjera:\", aux, \"%\")"
   ]
  },
  {
   "cell_type": "markdown",
   "metadata": {},
   "source": [
    "Suponiendo que en España unos 12% de la población son extranjeros, es una edivencia de que en el caso de las variaciones residenciales, los extranjeros tienen una proporción bastante más alta que su representación demográfica."
   ]
  },
  {
   "cell_type": "markdown",
   "metadata": {},
   "source": [
    "### **#8 PROVALTA**"
   ]
  },
  {
   "cell_type": "code",
   "execution_count": 28,
   "metadata": {},
   "outputs": [
    {
     "data": {
      "image/png": "[encoded data removed]",
      "text/plain": [
       "Plot with title \"Provincia de alta\""
      ]
     },
     "metadata": {},
     "output_type": "display_data"
    }
   ],
   "source": [
    "barplot(table(db$PROVALTA), main=\"Provincia de alta\", col=\"darkmagenta\")"
   ]
  },
  {
   "cell_type": "markdown",
   "metadata": {},
   "source": [
    "El último bin de la derecha corresponde a variaciones con destino extranjero."
   ]
  },
  {
   "cell_type": "code",
   "execution_count": 35,
   "metadata": {},
   "outputs": [
    {
     "data": {
      "text/html": [
       "'Proporción de alta en extranjero: 12.1 %'"
      ],
      "text/latex": [
       "'Proporción de alta en extranjero: 12.1 \\%'"
      ],
      "text/markdown": [
       "'Proporción de alta en extranjero: 12.1 %'"
      ],
      "text/plain": [
       "[1] \"Proporción de alta en extranjero: 12.1 %\""
      ]
     },
     "metadata": {},
     "output_type": "display_data"
    },
    {
     "data": {
      "text/html": [
       "'Proporción de alta en España: 87.9 %'"
      ],
      "text/latex": [
       "'Proporción de alta en España: 87.9 \\%'"
      ],
      "text/markdown": [
       "'Proporción de alta en España: 87.9 %'"
      ],
      "text/plain": [
       "[1] \"Proporción de alta en España: 87.9 %\""
      ]
     },
     "metadata": {},
     "output_type": "display_data"
    }
   ],
   "source": [
    "aux <- round(nrow(db[db$PROVALTA == \"66\",])/nrow(db)*100,1)\n",
    "paste(\"Proporción de alta en extranjero:\", aux, \"%\")\n",
    "\n",
    "aux <- round(nrow(db[db$PROVALTA != \"66\",])/nrow(db)*100,1)\n",
    "paste(\"Proporción de alta en España:\", aux, \"%\")"
   ]
  },
  {
   "cell_type": "markdown",
   "metadata": {},
   "source": [
    "### **#9 MUNIALTA**"
   ]
  },
  {
   "cell_type": "markdown",
   "metadata": {},
   "source": [
    "El mismo caso que vimos para MUNINAC; primero habrá que agruparlo según provincia."
   ]
  },
  {
   "cell_type": "markdown",
   "metadata": {},
   "source": [
    "### **#10 MESVAR**"
   ]
  },
  {
   "cell_type": "code",
   "execution_count": 31,
   "metadata": {},
   "outputs": [
    {
     "data": {
      "image/png": "[encoded data removed]",
      "text/plain": [
       "Plot with title \"Mes de variación (orden descendente)\""
      ]
     },
     "metadata": {},
     "output_type": "display_data"
    }
   ],
   "source": [
    "barplot(sort(table(db$MESVAR),decreasing=TRUE), main=\"Mes de variación (orden descendente)\", col=\"darkmagenta\")"
   ]
  },
  {
   "cell_type": "markdown",
   "metadata": {},
   "source": [
    "### **#11 ANOVAR**"
   ]
  },
  {
   "cell_type": "markdown",
   "metadata": {},
   "source": [
    "Obviamente en este dataset todas las variaciones son del año 2019."
   ]
  },
  {
   "cell_type": "markdown",
   "metadata": {},
   "source": [
    "### **#12 PROVBAJA**"
   ]
  },
  {
   "cell_type": "code",
   "execution_count": 32,
   "metadata": {},
   "outputs": [
    {
     "data": {
      "image/png": "[encoded data removed]",
      "text/plain": [
       "Plot with title \"Provincia de baja\""
      ]
     },
     "metadata": {},
     "output_type": "display_data"
    }
   ],
   "source": [
    "barplot(table(db$PROVBAJA), main=\"Provincia de baja\", col=\"darkmagenta\")"
   ]
  },
  {
   "cell_type": "markdown",
   "metadata": {},
   "source": [
    "El último bin de la derecha corresponde a variaciones con origen extranjero."
   ]
  },
  {
   "cell_type": "code",
   "execution_count": 36,
   "metadata": {},
   "outputs": [
    {
     "data": {
      "text/html": [
       "'Proporción de baja en extranjero: 30.5 %'"
      ],
      "text/latex": [
       "'Proporción de baja en extranjero: 30.5 \\%'"
      ],
      "text/markdown": [
       "'Proporción de baja en extranjero: 30.5 %'"
      ],
      "text/plain": [
       "[1] \"Proporción de baja en extranjero: 30.5 %\""
      ]
     },
     "metadata": {},
     "output_type": "display_data"
    },
    {
     "data": {
      "text/html": [
       "'Proporción de baja en España: 69.5 %'"
      ],
      "text/latex": [
       "'Proporción de baja en España: 69.5 \\%'"
      ],
      "text/markdown": [
       "'Proporción de baja en España: 69.5 %'"
      ],
      "text/plain": [
       "[1] \"Proporción de baja en España: 69.5 %\""
      ]
     },
     "metadata": {},
     "output_type": "display_data"
    }
   ],
   "source": [
    "aux <- round(nrow(db[db$PROVBAJA == \"66\",])/nrow(db)*100,1)\n",
    "paste(\"Proporción de baja en extranjero:\", aux, \"%\")\n",
    "\n",
    "aux <- round(nrow(db[db$PROVBAJA != \"66\",])/nrow(db)*100,1)\n",
    "paste(\"Proporción de baja en España:\", aux, \"%\")"
   ]
  },
  {
   "cell_type": "markdown",
   "metadata": {},
   "source": [
    "### **#13 MUNIBAJA**"
   ]
  },
  {
   "cell_type": "markdown",
   "metadata": {},
   "source": [
    "El mismo caso de MUNINAC y MUNIALTA."
   ]
  },
  {
   "cell_type": "markdown",
   "metadata": {},
   "source": [
    "### **#14 TAMUALTA**"
   ]
  },
  {
   "cell_type": "code",
   "execution_count": 113,
   "metadata": {},
   "outputs": [
    {
     "data": {
      "image/png": "[encoded data removed]",
      "text/plain": [
       "Plot with title \"Tamaño de municipio de alta\""
      ]
     },
     "metadata": {},
     "output_type": "display_data"
    }
   ],
   "source": [
    "aux <- sort(table(db$TAMUALTA))\n",
    "aux <- as.data.frame(aux)\n",
    "\n",
    "colfunc <- colorRampPalette(c(\"white\",\"darkmagenta\"))(7)\n",
    "\n",
    "slices <- aux$Freq\n",
    "lbl <- aux$Var1\n",
    "pct <- round(slices/sum(slices)*100)\n",
    "lbl <- paste(lbl, \"=>\", pct)\n",
    "lbl <- paste(lbl,\"%\", sep=\"\")\n",
    "pie(slices, labels = lbl, col = c(colfunc[6],colfunc[3],colfunc[5],\"#00000000\",colfunc[4],colfunc[2],colfunc[7]),\n",
    "    main=\"Tamaño de municipio de alta\")"
   ]
  },
  {
   "cell_type": "markdown",
   "metadata": {},
   "source": [
    "### **#15 TAMUBAJA**"
   ]
  },
  {
   "cell_type": "code",
   "execution_count": 4,
   "metadata": {},
   "outputs": [
    {
     "data": {
      "image/png": "[encoded data removed]",
      "text/plain": [
       "Plot with title \"Tamaño de municipio de baja\""
      ]
     },
     "metadata": {},
     "output_type": "display_data"
    }
   ],
   "source": [
    "aux <- sort(table(db$TAMUBAJA))\n",
    "aux <- as.data.frame(aux)\n",
    "\n",
    "colfunc <- colorRampPalette(c(\"white\",\"darkmagenta\"))(7)\n",
    "\n",
    "slices <- aux$Freq\n",
    "lbl <- aux$Var1\n",
    "pct <- round(slices/sum(slices)*100)\n",
    "lbl <- paste(lbl, \"=>\", pct)\n",
    "lbl <- paste(lbl,\"%\", sep=\"\")\n",
    "pie(slices, labels = lbl, col = c(colfunc[6],colfunc[3],colfunc[5],colfunc[4],colfunc[2],colfunc[7],\"#00000000\"),\n",
    "    main=\"Tamaño de municipio de baja\")"
   ]
  },
  {
   "cell_type": "markdown",
   "metadata": {},
   "source": [
    "Es importante observar que, dentro de España, la tendencia entre las categorías poblacionales de municipios de origen es la misma que los municipios de destino; Por orden descendente: 6 -> 1 -> 3 -> 4 -> 2 -> 5  "
   ]
  },
  {
   "cell_type": "markdown",
   "metadata": {},
   "source": [
    "### **#16 TAMUNAC**"
   ]
  },
  {
   "cell_type": "code",
   "execution_count": 5,
   "metadata": {},
   "outputs": [
    {
     "data": {
      "image/png": "[encoded data removed]",
      "text/plain": [
       "Plot with title \"Tamaño de municipio de nacimiento\""
      ]
     },
     "metadata": {},
     "output_type": "display_data"
    }
   ],
   "source": [
    "aux <- sort(table(db$TAMUNACI))\n",
    "aux <- as.data.frame(aux)\n",
    "\n",
    "colfunc <- colorRampPalette(c(\"white\",\"darkmagenta\"))(7)\n",
    "\n",
    "slices <- aux$Freq\n",
    "lbl <- aux$Var1\n",
    "pct <- round(slices/sum(slices)*100)\n",
    "lbl <- paste(lbl, \"=>\", pct)\n",
    "lbl <- paste(lbl,\"%\", sep=\"\")\n",
    "pie(slices, labels = lbl, col = c(colfunc[3],colfunc[5],colfunc[6],colfunc[4],colfunc[2],colfunc[7],\"#00000000\"),\n",
    "    main=\"Tamaño de municipio de nacimiento\")"
   ]
  },
  {
   "cell_type": "markdown",
   "metadata": {},
   "source": [
    "Ya habíamos visto que 56.3% de las personas mudadas son los nacidos en extranjero y entonces aquí desconocemos la información poblacional de su municipio de nacimiento.  "
   ]
  },
  {
   "cell_type": "markdown",
   "metadata": {},
   "source": [
    "## Visualización analítica"
   ]
  },
  {
   "cell_type": "markdown",
   "metadata": {},
   "source": [
    "En el segundo paso, generamos algunas otras visualizaciones mediante subconjuntos y agrupaciones de variables, de manera que nos puedan aportar alguna información añadida o perspicacia nueva."
   ]
  },
  {
   "cell_type": "markdown",
   "metadata": {},
   "source": [
    "### Tabla de frecuencia de variaciones entre provincias\n",
    "Intentamos ver si hay alguna correlación entre algunos pares de origen y destino.  \n",
    "  \n",
    "Lo medimos mediante **provincias** tanto españoles como extranjeros (=66) y no **municipios**, porque como explicamos antes, el código de los municipios no es directamente interpretable."
   ]
  },
  {
   "cell_type": "code",
   "execution_count": 83,
   "metadata": {},
   "outputs": [
    {
     "data": {
      "image/png": "[encoded data removed]",
      "text/plain": [
       "Plot with title \"Correlación provincial\""
      ]
     },
     "metadata": {},
     "output_type": "display_data"
    }
   ],
   "source": [
    "aux <- xtabs(~PROVBAJA+PROVALTA, db)\n",
    "\n",
    "heatmap(aux, Colv = NA, Rowv = NA, xlab=\"PROVALTA\", ylab=\"PROVBAJA\", main=\"Correlación provincial\")"
   ]
  },
  {
   "cell_type": "markdown",
   "metadata": {},
   "source": [
    "A simple vista, entendemos que muchas de las variaciones se hacen dentro de la misma provincia. ¿Cuánto?"
   ]
  },
  {
   "cell_type": "code",
   "execution_count": 35,
   "metadata": {},
   "outputs": [
    {
     "data": {
      "text/html": [
       "'Proporción de variaciones INTRA-provincial: 34.7 %'"
      ],
      "text/latex": [
       "'Proporción de variaciones INTRA-provincial: 34.7 \\%'"
      ],
      "text/markdown": [
       "'Proporción de variaciones INTRA-provincial: 34.7 %'"
      ],
      "text/plain": [
       "[1] \"Proporción de variaciones INTRA-provincial: 34.7 %\""
      ]
     },
     "metadata": {},
     "output_type": "display_data"
    }
   ],
   "source": [
    "sub_intra <- subset(db, PROVALTA == PROVBAJA)\n",
    "\n",
    "aux <- round(nrow(sub_intra)/nrow(db)*100,1)\n",
    "\n",
    "paste(\"Proporción de variaciones INTRA-provincial:\", aux, \"%\")"
   ]
  },
  {
   "cell_type": "markdown",
   "metadata": {},
   "source": [
    "Estas variaciones **intra-provinciales**, ¿En qué provincias son más frecuentes?"
   ]
  },
  {
   "cell_type": "code",
   "execution_count": 46,
   "metadata": {},
   "outputs": [
    {
     "data": {
      "image/png": "[encoded data removed]",
      "text/plain": [
       "Plot with title \"Frecuencia de variaciones INTRA-provinciales\""
      ]
     },
     "metadata": {},
     "output_type": "display_data"
    }
   ],
   "source": [
    "barplot(table(sub_intra$PROVBAJA), main=\"Frecuencia de variaciones INTRA-provinciales\", col=\"darkmagenta\")"
   ]
  },
  {
   "cell_type": "markdown",
   "metadata": {},
   "source": [
    "Las principales provincias con flujo interior son 08 (Barcelona), 28 (Madrid) y 46 (Valencia)."
   ]
  },
  {
   "cell_type": "markdown",
   "metadata": {},
   "source": [
    "Ahora dividimos las variaciones **inter-provinciales** en otro subset:"
   ]
  },
  {
   "cell_type": "code",
   "execution_count": 36,
   "metadata": {},
   "outputs": [
    {
     "data": {
      "text/html": [
       "'Proporción de variaciones INTER-provincial: 65.3 %'"
      ],
      "text/latex": [
       "'Proporción de variaciones INTER-provincial: 65.3 \\%'"
      ],
      "text/markdown": [
       "'Proporción de variaciones INTER-provincial: 65.3 %'"
      ],
      "text/plain": [
       "[1] \"Proporción de variaciones INTER-provincial: 65.3 %\""
      ]
     },
     "metadata": {},
     "output_type": "display_data"
    }
   ],
   "source": [
    "sub_inter <- subset(db, PROVALTA != PROVBAJA)\n",
    "\n",
    "# Obviamente tendrá el porcentaje complemento al anterior\n",
    "aux <- round(nrow(sub_inter)/nrow(db)*100,1)\n",
    "\n",
    "paste(\"Proporción de variaciones INTER-provincial:\", aux, \"%\")"
   ]
  },
  {
   "cell_type": "code",
   "execution_count": 101,
   "metadata": {},
   "outputs": [
    {
     "data": {
      "image/png": "[encoded data removed]",
      "text/plain": [
       "Plot with title \"Correlación INTER-provincial\""
      ]
     },
     "metadata": {},
     "output_type": "display_data"
    }
   ],
   "source": [
    "aux <- xtabs(~PROVBAJA+PROVALTA, sub_inter)\n",
    "\n",
    "heatmap(aux, Colv = NA, Rowv = NA, xlab=\"PROVALTA\", ylab=\"PROVBAJA\", main=\"Correlación INTER-provincial\")"
   ]
  },
  {
   "cell_type": "markdown",
   "metadata": {},
   "source": [
    "Algunas inferencias:  \n",
    "\n",
    "- La primera fila de arriba muestra que las variaciones con origen extranjero mayormente se afincan en provincias 28 (Madrid) y 08 (Barcelona).  \n",
    "  \n",
    "  \n",
    "- La columna del medio muestra que Madrid es, con diferencia, el destino más frecuentado y que sus llegadas provienen de todas provincias, pero siendo algunas más destacadas como 05 (Ávila), 19 (Guadalajara) y 45 (Toledo).  \n",
    "Es decir, sus provincias vecinas.  \n",
    "  \n",
    "  \n",
    "- La primera columna de la derecha, muestra que las variaciones con destino extranjero están extendidas entre muchas provincias de origen. Las pintamos en concreto para entender \"las personas que se van al extranjero ¿desde qué provincias se van?\""
   ]
  },
  {
   "cell_type": "code",
   "execution_count": 50,
   "metadata": {},
   "outputs": [
    {
     "data": {
      "image/png": "[encoded data removed]",
      "text/plain": [
       "Plot with title \"Origen provincial de variaciones con destino extranjero\""
      ]
     },
     "metadata": {},
     "output_type": "display_data"
    }
   ],
   "source": [
    "sub_DEST_EX <- subset(sub_inter, PROVALTA == \"66\")\n",
    "\n",
    "barplot(table(sub_DEST_EX$PROVBAJA), main=\"Origen provincial de variaciones con destino extranjero\", col=\"darkmagenta\")"
   ]
  },
  {
   "cell_type": "markdown",
   "metadata": {},
   "source": [
    "Hacemos la inversa; \"las personas que vienen del extranjero ¿en qué provincias se afincan?\""
   ]
  },
  {
   "cell_type": "code",
   "execution_count": 51,
   "metadata": {},
   "outputs": [
    {
     "data": {
      "image/png": "[encoded data removed]",
      "text/plain": [
       "Plot with title \"Destino provincial de variaciones con origen extranjero\""
      ]
     },
     "metadata": {},
     "output_type": "display_data"
    }
   ],
   "source": [
    "sub_ORIG_EX <- subset(sub_inter, PROVBAJA == \"66\")\n",
    "\n",
    "barplot(table(sub_ORIG_EX$PROVALTA), main=\"Destino provincial de variaciones con origen extranjero\", col=\"darkmagenta\")"
   ]
  },
  {
   "cell_type": "markdown",
   "metadata": {},
   "source": [
    "Lo suyo es combinar estas dos últimas gráficas en una. Así además notamos la diferencia entre número de variaciones en cada caso:"
   ]
  },
  {
   "cell_type": "code",
   "execution_count": 52,
   "metadata": {},
   "outputs": [
    {
     "data": {
      "image/png": "[encoded data removed]",
      "text/plain": [
       "Plot with title \"Provincia como Origen/Destino\""
      ]
     },
     "metadata": {},
     "output_type": "display_data"
    }
   ],
   "source": [
    "a <- table(sub_ORIG_EX$PROVALTA)\n",
    "b <- table(sub_DEST_EX$PROVBAJA)\n",
    "\n",
    "c <- rbind(a,b)\n",
    "\n",
    "barplot(c, beside=TRUE, col=c(\"darkmagenta\",\"yellow\"), main=\"Provincia como Origen/Destino\")\n",
    "legend(\"topright\",\n",
    "       c(\"Destino para origen extanjero\", \"Origen para destino extranjero\"),\n",
    "       col=c(\"darkmagenta\", \"yellow\"),\n",
    "       lwd=3, cex = 0.8, text.width = 50)"
   ]
  },
  {
   "cell_type": "markdown",
   "metadata": {},
   "source": [
    "Notable que la tendencia es muy parecida en ambos casos, aunque la proporción es bastante diferente."
   ]
  },
  {
   "cell_type": "markdown",
   "metadata": {},
   "source": [
    "Ya habíamos visto el histograma de edad, pero vendrá bien añadirle la media muestral (migrantes) y poblacional (edad media en España en 2019). También dibujamos una curva de distribución normal con la misma media muestral."
   ]
  },
  {
   "cell_type": "code",
   "execution_count": 92,
   "metadata": {},
   "outputs": [
    {
     "data": {
      "image/png": "[encoded data removed]",
      "text/plain": [
       "Plot with title \"Histograma de edad\""
      ]
     },
     "metadata": {},
     "output_type": "display_data"
    }
   ],
   "source": [
    "hist(db$EDAD, main=\"Histograma de edad\", \n",
    "     xlab = \"Edad\", ylab = \"Frecuencia\",\n",
    "     border = \"black\", col = \"darkmagenta\",\n",
    "     xlim = c(0,100), freq=FALSE)\n",
    "abline(v=mean(db$EDAD), col=\"red\", lwd=3)\n",
    "abline(v=43.4, col=\"blue\", lwd=3)\n",
    "legend(\"topright\",\n",
    "       c(\"Media desplazados = 34.6\", \"Media población = 43.4\"),\n",
    "       col=c(\"red\", \"blue\"),\n",
    "       lwd=3, cex = 0.8, text.width = 29)\n",
    "media <- mean(db$EDAD)\n",
    "des <- sd(db$EDAD)\n",
    "x <- runif(n = 1000, min=0, max=100)\n",
    "curve(dnorm(x = x, mean=media, sd=des), col=\"red\", lwd=2, add=TRUE)"
   ]
  },
  {
   "cell_type": "markdown",
   "metadata": {},
   "source": [
    "Llamativa la diferencia de casi 9 años entre los desplazados y la población general.  \n",
    "Mediante un test de hipótesis, comprobamos si la diferencia observada es estadísticamente significativa.  \n",
    "Pero antes hay que comprobar la normalidad de la distribución."
   ]
  },
  {
   "cell_type": "markdown",
   "metadata": {},
   "source": [
    "$$\n",
    "\\begin{array}{c}\n",
    "H_0 : \\mu_d = \\mu_p  = 43.4  \\\\\\\n",
    "H_1 : \\mu_d < \\mu_p \\\\\\\n",
    "\\end{array}\n",
    "$$"
   ]
  },
  {
   "cell_type": "code",
   "execution_count": 6,
   "metadata": {},
   "outputs": [
    {
     "name": "stderr",
     "output_type": "stream",
     "text": [
      "Warning message in ks.test(db$EDAD, \"pnorm\", mean(db$EDAD), sd(db$EDAD)):\n",
      "\"ties should not be present for the Kolmogorov-Smirnov test\""
     ]
    },
    {
     "data": {
      "text/plain": [
       "\n",
       "\tOne-sample Kolmogorov-Smirnov test\n",
       "\n",
       "data:  db$EDAD\n",
       "D = 0.054662, p-value < 2.2e-16\n",
       "alternative hypothesis: two-sided\n"
      ]
     },
     "metadata": {},
     "output_type": "display_data"
    }
   ],
   "source": [
    "ks.test(db$EDAD, \"pnorm\", mean(db$EDAD), sd(db$EDAD))"
   ]
  },
  {
   "cell_type": "code",
   "execution_count": 13,
   "metadata": {},
   "outputs": [
    {
     "data": {
      "image/png": "[encoded data removed]",
      "text/plain": [
       "Plot with title \"Normal Q-Q Plot\""
      ]
     },
     "metadata": {},
     "output_type": "display_data"
    }
   ],
   "source": [
    "qqnorm(db$EDAD, pch = 1, frame = FALSE)\n",
    "qqline(db$EDAD, col = \"steelblue\", lwd = 2)"
   ]
  },
  {
   "cell_type": "markdown",
   "metadata": {},
   "source": [
    "Como la distribución no es normal, en vez de t-student usamos la prueba de Wilcoxon:"
   ]
  },
  {
   "cell_type": "code",
   "execution_count": 25,
   "metadata": {},
   "outputs": [
    {
     "data": {
      "text/plain": [
       "\n",
       "\tWilcoxon signed rank test with continuity correction\n",
       "\n",
       "data:  db$EDAD\n",
       "V = 1.0147e+12, p-value < 2.2e-16\n",
       "alternative hypothesis: true location is less than 43.4\n"
      ]
     },
     "metadata": {},
     "output_type": "display_data"
    }
   ],
   "source": [
    "wilcox.test(db$EDAD, mu = 43.4, alternative = \"less\")"
   ]
  },
  {
   "cell_type": "markdown",
   "metadata": {},
   "source": [
    "Podemos comprobar la edad según la categoría poblacional del municipio de destino.  \n",
    "Es decir, en cada franja de edad, ¿a qué tipo de municipio se mudan las personas?"
   ]
  },
  {
   "cell_type": "code",
   "execution_count": 58,
   "metadata": {},
   "outputs": [
    {
     "data": {
      "image/png": "[encoded data removed]",
      "text/plain": [
       "plot without title"
      ]
     },
     "metadata": {},
     "output_type": "display_data"
    }
   ],
   "source": [
    "colfunc <- colorRampPalette(c(\"white\",\"darkmagenta\"))\n",
    "\n",
    "ggplot(db, aes(x=EDAD, fill=TAMUALTA)) +\n",
    "scale_fill_manual(values=colfunc(6)) +\n",
    "geom_histogram(binwidth = 10, col = \"black\") +\n",
    "labs(title = \"Histograma de edad (segmentado por municipio de destino)\", x=\"Edad\", y=\"Freq\") +\n",
    "theme(plot.title = element_text(hjust = 0.5))"
   ]
  },
  {
   "cell_type": "markdown",
   "metadata": {},
   "source": [
    "Es interesante ver que las categorías se mantienen en todas franjas de edad. Es decir, todas las personas, incluso las más jóvenes, se mudan primero hacia capitales de provincia y luego hacia municipios de menos de 10,000 habitantes. No es que, por ejemplo, éstos sean únicamente destino de los más mayores.  \n",
    "\n",
    "Naturalmente surge la pregunta inversa; En cada franja de edad, ¿desde qué tipo de municipio se mudan las personas?"
   ]
  },
  {
   "cell_type": "code",
   "execution_count": 59,
   "metadata": {},
   "outputs": [
    {
     "data": {
      "image/png": "[encoded data removed]",
      "text/plain": [
       "plot without title"
      ]
     },
     "metadata": {},
     "output_type": "display_data"
    }
   ],
   "source": [
    "colfunc <- colorRampPalette(c(\"white\",\"darkmagenta\"))\n",
    "\n",
    "ggplot(db, aes(x=EDAD, fill=TAMUBAJA)) +\n",
    "scale_fill_manual(values=colfunc(6)) +\n",
    "geom_histogram(binwidth = 10, col = \"black\") +\n",
    "labs(title = \"Histograma de edad (segmentado por municipio de origen)\", x=\"Edad\", y=\"Freq\") +\n",
    "theme(plot.title = element_text(hjust = 0.5))"
   ]
  },
  {
   "cell_type": "markdown",
   "metadata": {},
   "source": [
    "## Subconjuntos de interés"
   ]
  },
  {
   "cell_type": "markdown",
   "metadata": {},
   "source": [
    "### Subsets correspondientes al extranjero\n",
    "Todo lo relacionado con \"extranjero\" se puede denifir, por lo menos, según estos tres aspectos:  \n",
    "- El lugar de alta o baja\n",
    "- El lugar de nacimiento\n",
    "- La nacionalidad  \n",
    "\n",
    "Ya vimos la gráfica de origen/destino provincial en variaciones con origen/destino extranjero.  \n",
    "  \n",
    "Sobre lugar de nacimiento/nacionalidad se puede combinar 4 categorías, de las cuales mayormente nos referimos a EX4:"
   ]
  },
  {
   "cell_type": "markdown",
   "metadata": {},
   "source": [
    "1) Nacidos en extranjero (independientemente de su nacionalidad)"
   ]
  },
  {
   "cell_type": "code",
   "execution_count": 4,
   "metadata": {},
   "outputs": [],
   "source": [
    "EX1 <- db[db$PROVNAC == \"66\",]"
   ]
  },
  {
   "cell_type": "markdown",
   "metadata": {},
   "source": [
    "2) Extranjeros nacidos en España (hijos de residentes extranjeros)"
   ]
  },
  {
   "cell_type": "code",
   "execution_count": 5,
   "metadata": {},
   "outputs": [],
   "source": [
    "EX2 <- db[db$CNAC != \"108\" & db$PROVNAC != \"66\",]"
   ]
  },
  {
   "cell_type": "markdown",
   "metadata": {},
   "source": [
    "3) Españoles nacidos en extranjero (extranjeros nacionalizados o hijos de españoles expatriados)\n"
   ]
  },
  {
   "cell_type": "code",
   "execution_count": 6,
   "metadata": {},
   "outputs": [],
   "source": [
    "EX3 <- db[db$CNAC == \"108\" & db$PROVNAC == \"66\",]"
   ]
  },
  {
   "cell_type": "markdown",
   "metadata": {},
   "source": [
    "4) Extranjeros nacidos en extranjero (estudiantes, trabajadores, etc.)"
   ]
  },
  {
   "cell_type": "code",
   "execution_count": 7,
   "metadata": {},
   "outputs": [],
   "source": [
    "EX4 <- db[db$CNAC != \"108\" & db$PROVNAC == \"66\",]"
   ]
  },
  {
   "cell_type": "markdown",
   "metadata": {},
   "source": [
    "Comprobamos sus proporciones:"
   ]
  },
  {
   "cell_type": "code",
   "execution_count": 26,
   "metadata": {},
   "outputs": [
    {
     "data": {
      "image/png": "[encoded data removed]",
      "text/plain": [
       "Plot with title \"Proporción de categorías relacionadas con extranjero\""
      ]
     },
     "metadata": {},
     "output_type": "display_data"
    }
   ],
   "source": [
    "EX_data <- data.frame(Categoria = c(\"EX1\",\"EX2\",\"EX3\",\"EX4\"),\n",
    "                      Freq = c(nrow(EX1),nrow(EX2),nrow(EX3),nrow(EX4)))\n",
    "\n",
    "slices <- EX_data$Freq\n",
    "lbl <- EX_data$Categoria\n",
    "pct <- round(slices/sum(slices)*100)\n",
    "lbl <- paste(lbl, \"=>\", pct)\n",
    "lbl <- paste(lbl,\"%\", sep=\"\")\n",
    "pie(slices, labels = lbl, col = hcl.colors(length(lbl)),\n",
    "    main=\"Proporción de categorías relacionadas con extranjero\")"
   ]
  },
  {
   "cell_type": "markdown",
   "metadata": {},
   "source": [
    "### Subsets correspondientes a Cantabria/Santander"
   ]
  },
  {
   "cell_type": "markdown",
   "metadata": {},
   "source": [
    "Cantabria como provincia de origen:"
   ]
  },
  {
   "cell_type": "code",
   "execution_count": 128,
   "metadata": {},
   "outputs": [],
   "source": [
    "ORIG_CANT <- db[db$PROVBAJA == \"39\",]"
   ]
  },
  {
   "cell_type": "markdown",
   "metadata": {},
   "source": [
    "Cantabria como provincia de destino:"
   ]
  },
  {
   "cell_type": "code",
   "execution_count": 129,
   "metadata": {},
   "outputs": [],
   "source": [
    "DEST_CANT <- db[db$PROVALTA == \"39\",]"
   ]
  },
  {
   "cell_type": "markdown",
   "metadata": {},
   "source": [
    "Incluso alguno más específico:  \n",
    "Cántabros (españoles nacidos en Cantabria) que se han ido de Cantabria:"
   ]
  },
  {
   "cell_type": "code",
   "execution_count": 130,
   "metadata": {},
   "outputs": [],
   "source": [
    "NAC_ORIG_CANT <- db[db$CNAC == \"108\" & db$PROVNAC == \"39\" & db$PROVBAJA == \"39\" ,]"
   ]
  },
  {
   "cell_type": "markdown",
   "metadata": {},
   "source": [
    "Santander como municipio de origen:"
   ]
  },
  {
   "cell_type": "code",
   "execution_count": 131,
   "metadata": {},
   "outputs": [],
   "source": [
    "ORIG_SANT <- db[db$PROVBAJA == \"39\" & db$MUNIBAJA == \"075\",]"
   ]
  },
  {
   "cell_type": "markdown",
   "metadata": {},
   "source": [
    "Santander como municipio de destino:"
   ]
  },
  {
   "cell_type": "code",
   "execution_count": 132,
   "metadata": {},
   "outputs": [],
   "source": [
    "DEST_SANT <- db[db$PROVALTA == \"39\" & db$MUNIALTA == \"075\",]"
   ]
  },
  {
   "cell_type": "code",
   "execution_count": 133,
   "metadata": {},
   "outputs": [
    {
     "data": {
      "image/png": "[encoded data removed]",
      "text/plain": [
       "Plot with title \"Edad de los migrantes\""
      ]
     },
     "metadata": {},
     "output_type": "display_data"
    }
   ],
   "source": [
    "par(mfrow = c(1:2))\n",
    "\n",
    "hist(NAC_ORIG_CANT$EDAD, main=\"Edad de los cántabros migrantes\", col=\"darkmagenta\")\n",
    "abline(v=mean(NAC_ORIG_CANT$EDAD), col=\"blue\", lwd=3)\n",
    "hist(db$EDAD, main=\"Edad de los migrantes\", col=\"darkmagenta\")\n",
    "abline(v=mean(db$EDAD), col=\"yellow\", lwd=3)\n",
    "legend(\"topright\",\n",
    "       c(\"35.58\", \"34.67\"),\n",
    "       col=c(\"blue\", \"yellow\"),\n",
    "       lwd=3, cex = 0.8, text.width = 20)"
   ]
  },
  {
   "cell_type": "markdown",
   "metadata": {},
   "source": [
    "Probar la semejanza de distribuciones:"
   ]
  },
  {
   "cell_type": "code",
   "execution_count": 136,
   "metadata": {},
   "outputs": [
    {
     "name": "stderr",
     "output_type": "stream",
     "text": [
      "Warning message in ks.test(NAC_ORIG_CANT$EDAD, db$EDAD):\n",
      "\"p-value will be approximate in the presence of ties\""
     ]
    },
    {
     "data": {
      "text/plain": [
       "\n",
       "\tTwo-sample Kolmogorov-Smirnov test\n",
       "\n",
       "data:  NAC_ORIG_CANT$EDAD and db$EDAD\n",
       "D = 0.044155, p-value < 2.2e-16\n",
       "alternative hypothesis: two-sided\n"
      ]
     },
     "metadata": {},
     "output_type": "display_data"
    },
    {
     "data": {
      "text/html": [
       "<strong>D:</strong> 0.0441552632716143"
      ],
      "text/latex": [
       "\\textbf{D:} 0.0441552632716143"
      ],
      "text/markdown": [
       "**D:** 0.0441552632716143"
      ],
      "text/plain": [
       "         D \n",
       "0.04415526 "
      ]
     },
     "metadata": {},
     "output_type": "display_data"
    }
   ],
   "source": [
    "test <- ks.test(NAC_ORIG_CANT$EDAD, db$EDAD)\n",
    "test\n",
    "test$statistic"
   ]
  },
  {
   "cell_type": "code",
   "execution_count": 154,
   "metadata": {},
   "outputs": [
    {
     "data": {
      "image/png": "[encoded data removed]",
      "text/plain": [
       "Plot with title \"Función de distribución acumulada empírica de edad\""
      ]
     },
     "metadata": {},
     "output_type": "display_data"
    }
   ],
   "source": [
    "plot(ecdf(db$EDAD),col=\"darkmagenta\",\n",
    "     main=\"Función de distribución acumulada empírica de edad\",\n",
    "     xlab = \"Año\", ylab = \"Probabilidad acumulada\")\n",
    "plot(ecdf(NAC_ORIG_CANT$EDAD), col=\"red\", add=TRUE)\n",
    "\n",
    "legend(\"topleft\",\n",
    "       c(\"Todos los migrantes\",\"Cántabros migrantes\"),\n",
    "       col=c(\"darkmagenta\", \"red\"),\n",
    "       lwd=3, cex = 0.8, text.width = 35)"
   ]
  },
  {
   "cell_type": "markdown",
   "metadata": {},
   "source": [
    "Comparar la media:"
   ]
  },
  {
   "cell_type": "code",
   "execution_count": 29,
   "metadata": {},
   "outputs": [
    {
     "data": {
      "image/png": "[encoded data removed]",
      "text/plain": [
       "plot without title"
      ]
     },
     "metadata": {},
     "output_type": "display_data"
    }
   ],
   "source": [
    "table <- data.frame(Categoría = c(\"Cántabros migrantes\",\"Todos los migrantes\",\"España\"), Freq = c(round(mean(NAC_ORIG_CANT$EDAD),2),round(mean(db$EDAD),2),43.4))\n",
    "\n",
    "ggplot(data=table, aes(x=reorder(Categoría, -Freq),y=Freq)) +\n",
    "geom_bar(stat='identity', fill='darkmagenta') +\n",
    "labs(title=\"Comparación de edad media\") +\n",
    "theme(plot.title = element_text(hjust = 0.5),axis.title.x = element_blank(), axis.title.y = element_blank()) +\n",
    "geom_text(aes(label=Freq), vjust=-1)"
   ]
  },
  {
   "cell_type": "markdown",
   "metadata": {},
   "source": [
    "$$\n",
    "\\begin{array}{c}\n",
    "H_0 : \\mu_c = \\mu_m  = 34.67  \\\\\\\n",
    "H_1 : \\mu_c > \\mu_m \\\\\\\n",
    "\\end{array}\n",
    "$$"
   ]
  },
  {
   "cell_type": "code",
   "execution_count": 37,
   "metadata": {},
   "outputs": [
    {
     "data": {
      "text/plain": [
       "\n",
       "\tWilcoxon signed rank test with continuity correction\n",
       "\n",
       "data:  NAC_ORIG_CANT$EDAD\n",
       "V = 40962412, p-value = 0.808\n",
       "alternative hypothesis: true location is greater than 34.66642\n"
      ]
     },
     "metadata": {},
     "output_type": "display_data"
    }
   ],
   "source": [
    "wilcox.test(NAC_ORIG_CANT$EDAD, mu=mean(db$EDAD), alternative=\"greater\")"
   ]
  },
  {
   "cell_type": "markdown",
   "metadata": {},
   "source": [
    "Recordando que teníamos dos subsets para variaciones INTER e INTRA provincial, podemos combinarlos también.  \n",
    "\n",
    "Por ejemplo, para ver si hay alguna diferencia entre el perfil de las personas que se mudan a Santander, según vienen desde otros municipios de Cantabria o bien desde otras provincias."
   ]
  },
  {
   "cell_type": "code",
   "execution_count": 37,
   "metadata": {},
   "outputs": [],
   "source": [
    "DEST_SANT_INTER <- sub_inter[sub_inter$PROVALTA == \"39\" & sub_inter$MUNIALTA == \"075\",]\n",
    "\n",
    "DEST_SANT_INTRA <- sub_intra[sub_intra$PROVALTA == \"39\" & sub_intra$MUNIALTA == \"075\",]"
   ]
  },
  {
   "cell_type": "code",
   "execution_count": 38,
   "metadata": {},
   "outputs": [
    {
     "data": {
      "image/png": "[encoded data removed]",
      "text/plain": [
       "Plot with title \"Mes de mudanza a Santander\""
      ]
     },
     "metadata": {},
     "output_type": "display_data"
    }
   ],
   "source": [
    "a <- table(DEST_SANT_INTRA$MESVAR)\n",
    "b <- table(DEST_SANT_INTER$MESVAR)\n",
    "\n",
    "c <- rbind(a,b)\n",
    "\n",
    "barplot(c, beside=TRUE, col=c(\"darkmagenta\",\"yellow\"), main=\"Mes de mudanza a Santander\")\n",
    "legend(\"topleft\",\n",
    "       c(\"Origen Cantabria\", \"Origen fuera de Cantabria\"),\n",
    "       col=c(\"darkmagenta\", \"yellow\"),\n",
    "       lwd=3, cex = 0.7, text.width = 9)"
   ]
  },
  {
   "cell_type": "markdown",
   "metadata": {},
   "source": [
    "### Subconjunto de altas en municipios capitales vs. no capitales:"
   ]
  },
  {
   "cell_type": "code",
   "execution_count": 7,
   "metadata": {},
   "outputs": [],
   "source": [
    "cap <- db[db$TAMUALTA == 6,]\n",
    "nocap <- db[db$TAMUALTA %in% 1:5,]"
   ]
  },
  {
   "cell_type": "code",
   "execution_count": 9,
   "metadata": {},
   "outputs": [
    {
     "data": {
      "image/png": "[encoded data removed]",
      "text/plain": [
       "Plot with title \"Edad de migrantes a No Capitales\""
      ]
     },
     "metadata": {},
     "output_type": "display_data"
    }
   ],
   "source": [
    "par(mfrow = c(1:2))\n",
    "\n",
    "hist(cap$EDAD, col=\"darkmagenta\", main=\"Edad de migrantes a Capitales\")\n",
    "abline(v=mean(cap$EDAD), col=\"blue\", lwd=3)\n",
    "hist(nocap$EDAD, col=\"darkmagenta\", main=\"Edad de migrantes a No Capitales\")\n",
    "abline(v=mean(nocap$EDAD), col=\"yellow\", lwd=3)\n",
    "\n",
    "legend(\"topright\",\n",
    "       c(\"33.32\",\"34.86\"),\n",
    "       col=c(\"blue\", \"yellow\"),\n",
    "       lwd=3, cex = 0.8, text.width = 20)"
   ]
  },
  {
   "cell_type": "markdown",
   "metadata": {},
   "source": [
    "Probar la semejanza de distribuciones:"
   ]
  },
  {
   "cell_type": "code",
   "execution_count": 147,
   "metadata": {},
   "outputs": [
    {
     "name": "stderr",
     "output_type": "stream",
     "text": [
      "Warning message in ks.test(cap$EDAD, nocap$EDAD):\n",
      "\"p-value will be approximate in the presence of ties\""
     ]
    },
    {
     "data": {
      "text/plain": [
       "\n",
       "\tTwo-sample Kolmogorov-Smirnov test\n",
       "\n",
       "data:  cap$EDAD and nocap$EDAD\n",
       "D = 0.069015, p-value < 2.2e-16\n",
       "alternative hypothesis: two-sided\n"
      ]
     },
     "metadata": {},
     "output_type": "display_data"
    },
    {
     "data": {
      "text/html": [
       "<strong>D:</strong> 0.0690152445213269"
      ],
      "text/latex": [
       "\\textbf{D:} 0.0690152445213269"
      ],
      "text/markdown": [
       "**D:** 0.0690152445213269"
      ],
      "text/plain": [
       "         D \n",
       "0.06901524 "
      ]
     },
     "metadata": {},
     "output_type": "display_data"
    }
   ],
   "source": [
    "test <- ks.test(cap$EDAD, nocap$EDAD)\n",
    "test\n",
    "test$statistic"
   ]
  },
  {
   "cell_type": "code",
   "execution_count": 153,
   "metadata": {},
   "outputs": [
    {
     "data": {
      "image/png": "[encoded data removed]",
      "text/plain": [
       "Plot with title \"Función de distribución acumulada empírica de edad\""
      ]
     },
     "metadata": {},
     "output_type": "display_data"
    }
   ],
   "source": [
    "plot(ecdf(cap$EDAD),col=\"darkmagenta\",\n",
    "     main=\"Función de distribución acumulada empírica de edad\",\n",
    "     xlab = \"Año\", ylab = \"Probabilidad acumulada\")\n",
    "plot(ecdf(nocap$EDAD), col=\"red\", add=TRUE)\n",
    "\n",
    "legend(\"topleft\",\n",
    "       c(\"Migrantes a Capitales\",\"Migrantes a No Capitales\"),\n",
    "       col=c(\"darkmagenta\", \"red\"),\n",
    "       lwd=3, cex = 0.8, text.width = 35)"
   ]
  },
  {
   "cell_type": "markdown",
   "metadata": {},
   "source": [
    "Probar la media:"
   ]
  },
  {
   "cell_type": "markdown",
   "metadata": {},
   "source": [
    "$$\n",
    "\\begin{array}{c}\n",
    "H_0 : \\mu_c = \\mu_n  \\\\\\\n",
    "H_1 : \\mu_c != \\mu_n \\\\\\\n",
    "\\end{array}\n",
    "$$"
   ]
  },
  {
   "cell_type": "code",
   "execution_count": 44,
   "metadata": {},
   "outputs": [
    {
     "data": {
      "text/plain": [
       "\n",
       "\tWilcoxon signed rank test with continuity correction\n",
       "\n",
       "data:  cap$EDAD\n",
       "V = 1.268e+11, p-value < 2.2e-16\n",
       "alternative hypothesis: true location is less than 34.86468\n"
      ]
     },
     "metadata": {},
     "output_type": "display_data"
    }
   ],
   "source": [
    "wilcox.test(cap$EDAD, mu=mean(nocap$EDAD), alternative=\"less\")"
   ]
  },
  {
   "cell_type": "markdown",
   "metadata": {},
   "source": [
    "Proporción de alta en capital vs. no capital según nacionalidad:"
   ]
  },
  {
   "cell_type": "code",
   "execution_count": 8,
   "metadata": {},
   "outputs": [],
   "source": [
    "cap$NAC <- ifelse(cap$CNAC == \"108\", \"ESP\", \"EXT\")\n",
    "nocap$NAC <- ifelse(nocap$CNAC == \"108\", \"ESP\", \"EXT\")"
   ]
  },
  {
   "cell_type": "code",
   "execution_count": 9,
   "metadata": {},
   "outputs": [
    {
     "data": {
      "image/png": "[encoded data removed]",
      "text/plain": [
       "Plot with title \"Nacionalidad (alta no capitales)\""
      ]
     },
     "metadata": {},
     "output_type": "display_data"
    }
   ],
   "source": [
    "par(mfrow = c(1:2))\n",
    "\n",
    "aux <- sort(table(cap$NAC))\n",
    "aux <- as.data.frame(aux)\n",
    "\n",
    "slices <- aux$Freq\n",
    "lbl <- aux$Var1\n",
    "pct <- round(slices/sum(slices)*100)\n",
    "lbl <- paste(lbl, \"=>\", pct)\n",
    "lbl <- paste(lbl,\"%\", sep=\"\")\n",
    "pie(slices, labels = lbl, col = c(\"darkmagenta\",\"yellow\"),\n",
    "    main=\"Nacionalidad (alta capitales)\")\n",
    "\n",
    "aux <- sort(table(nocap$NAC))\n",
    "aux <- as.data.frame(aux)\n",
    "\n",
    "slices <- aux$Freq\n",
    "lbl <- aux$Var1\n",
    "pct <- round(slices/sum(slices)*100)\n",
    "lbl <- paste(lbl, \"=>\", pct)\n",
    "lbl <- paste(lbl,\"%\", sep=\"\")\n",
    "pie(slices, labels = lbl, col = c(\"yellow\",\"darkmagenta\"),\n",
    "    main=\"Nacionalidad (alta no capitales)\")"
   ]
  },
  {
   "cell_type": "code",
   "execution_count": 25,
   "metadata": {},
   "outputs": [
    {
     "data": {
      "image/png": "[encoded data removed]",
      "text/plain": [
       "Plot with title \"Mes de variación\""
      ]
     },
     "metadata": {},
     "output_type": "display_data"
    }
   ],
   "source": [
    "a <- table(cap$MESVAR)\n",
    "b <- table(nocap$MESVAR)\n",
    "\n",
    "c <- rbind(a,b)\n",
    "\n",
    "barplot(c, beside=TRUE, col=c(\"darkmagenta\",\"yellow\"), main=\"Mes de variación\")\n",
    "legend(\"topleft\",\n",
    "       c(\"Capitales\", \"No Capitales\"),\n",
    "       col=c(\"darkmagenta\", \"yellow\"),\n",
    "       lwd=3, cex = 0.7, text.width = 5)"
   ]
  }
 ],
 "metadata": {
  "kernelspec": {
   "display_name": "R",
   "language": "R",
   "name": "ir"
  },
  "language_info": {
   "codemirror_mode": "r",
   "file_extension": ".r",
   "mimetype": "text/x-r-source",
   "name": "R",
   "pygments_lexer": "r",
   "version": "3.6.1"
  }
 },
 "nbformat": 4,
 "nbformat_minor": 4
}
